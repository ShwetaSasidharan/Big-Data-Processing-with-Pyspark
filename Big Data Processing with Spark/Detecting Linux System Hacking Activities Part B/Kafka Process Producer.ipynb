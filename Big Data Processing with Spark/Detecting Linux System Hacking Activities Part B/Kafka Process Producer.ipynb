{
 "cells": [
  {
   "cell_type": "markdown",
   "metadata": {},
   "source": [
    " # <h2><center><strong style=\"color:#ff6161\"> Detecting Linux system hacking activities Part B\n",
    " </center></strong></h3>\n",
    " "
   ]
  },
  {
   "cell_type": "markdown",
   "metadata": {},
   "source": [
    "<h2> 1. Producing the data "
   ]
  },
  {
   "cell_type": "markdown",
   "metadata": {},
   "source": [
    "<h3> 1.1 Process Event Producer"
   ]
  },
  {
   "cell_type": "code",
   "execution_count": null,
   "metadata": {},
   "outputs": [],
   "source": [
    "# Import libraries and initializing \n",
    "\n",
    "from time import sleep\n",
    "from json import dumps\n",
    "from kafka import KafkaProducer\n",
    "import random\n",
    "import datetime\n",
    "from csv import DictReader\n"
   ]
  },
  {
   "cell_type": "code",
   "execution_count": null,
   "metadata": {},
   "outputs": [],
   "source": [
    "#Function to publish producer messages to the topic queue \n",
    "\n",
    "def publish_message(producer_instance, topic_name, data):\n",
    "    try:\n",
    "        producer_instance.send(topic_name, data)\n",
    "        print('Message published successfully. Data: ' + str(data))\n",
    "    except Exception as ex:\n",
    "        print('Exception in publishing message.')\n",
    "        print(str(ex))"
   ]
  },
  {
   "cell_type": "code",
   "execution_count": null,
   "metadata": {},
   "outputs": [],
   "source": [
    "#Function to connect to the Kafka Producer\n",
    "\n",
    "def connect_kafka_producer():\n",
    "    _producer = None\n",
    "    try:\n",
    "        _producer = KafkaProducer(bootstrap_servers=['localhost:9092'],\n",
    "                                  value_serializer=lambda x: dumps(x).encode('ascii'),\n",
    "                                  api_version=(0, 10))\n",
    "    except Exception as ex:\n",
    "        print('Exception while connecting Kafka.')\n",
    "        print(str(ex))\n",
    "    finally:\n",
    "        return _producer"
   ]
  },
  {
   "cell_type": "code",
   "execution_count": null,
   "metadata": {},
   "outputs": [],
   "source": [
    "#Function to add timestamp to the data\n",
    "def add_timestamp(data_rows,tst):\n",
    "    data = []\n",
    "    #ts = datetime.datetime.utcnow().strftime(\"%s\")\n",
    "    for row in data_rows:\n",
    "        row['ts'] = tst\n",
    "        data.append({k: row[k] for k in row.keys()})\n",
    "    return data_rows"
   ]
  },
  {
   "cell_type": "code",
   "execution_count": null,
   "metadata": {},
   "outputs": [],
   "source": [
    "#Function to alter the key values from string to integer and float values\n",
    "def alter_values(data_list):\n",
    "    for sub in data_list:\n",
    "        for key in sub:\n",
    "            try:\n",
    "                sub[key] = int(sub[key]) \n",
    "                sub['CPU']= float(sub[key]) \n",
    "            except ValueError:\n",
    "                continue\n",
    "    return data_list"
   ]
  },
  {
   "cell_type": "code",
   "execution_count": null,
   "metadata": {},
   "outputs": [],
   "source": [
    "#Initializing the variables used in loop\n",
    "ts = 0\n",
    "machine_4 = []\n",
    "machine_5 = []\n",
    "machine_6 = []\n",
    "machine_7 = []\n",
    "machine_8 = []\n",
    "\n",
    "#Initializing the producer instance\n",
    "producer = connect_kafka_producer()\n",
    "\n",
    "#Initializing the process topic name\n",
    "topic = 'processaa12'\n",
    "\n",
    "#Initializing the start index in the machine\n",
    "start_index = {'machine_4' : 0,\n",
    "               'machine_5' : 0,\n",
    "               'machine_6' : 0,\n",
    "               'machine_7' : 0,\n",
    "               'machine_8' : 0}\n",
    "\n",
    "\n",
    "#data_dict = {key : [data_list_X, data_list_Y, prev_Y]}\n",
    "data_dict = {'machine_4' : [0,0,0],\n",
    "             'machine_5' : [0,0,0],\n",
    "             'machine_6' : [0,0,0],\n",
    "             'machine_7' : [0,0,0],\n",
    "             'machine_8' : [0,0,0]}\n",
    "\n",
    "# Reading the Linux process CSV file\n",
    "input_file = DictReader(open('Streaming_Linux_process.csv'))\n",
    "\n",
    "# Separating the records in by machines from the file\n",
    "for row in input_file:\n",
    "    if int(row['machine']) == 4:\n",
    "        machine_4.append(row)\n",
    "    elif int(row['machine']) == 5:\n",
    "        machine_5.append(row)\n",
    "    elif int(row['machine']) == 6:\n",
    "        machine_6.append(row)\n",
    "    elif int(row['machine']) == 7:\n",
    "        machine_7.append(row)\n",
    "    else:\n",
    "        machine_8.append(row)\n",
    "        \n",
    "#print(len(machine_8),len(machine_4),len(machine_5),len(machine_6),len(machine_7))\n",
    "\n",
    "# Storing the machine records list for each machine key respectively\n",
    "machine_list = {'machine_4' : machine_4,\n",
    "                'machine_5' : machine_5,\n",
    "                'machine_6' : machine_6,\n",
    "                'machine_7' : machine_7,\n",
    "                'machine_8' : machine_8}\n",
    "\n",
    "print('Publishing records..')\n",
    "while True:\n",
    "    combined_data = []\n",
    "    #Looping through the machine list\n",
    "    for k, value in machine_list.items():\n",
    "        #Checking for random rows to send\n",
    "        rows_to_send_X =random.randint(20, 80)\n",
    "        #Setting the end index for rows to send \n",
    "        end_index_X = start_index[k] + rows_to_send_X\n",
    "        #if \n",
    "        #if(end_index_X < len(value)):\n",
    "        data_dict[k][0] = value[start_index[k] : end_index_X]            \n",
    "        alter_values(data_dict[k][0])            \n",
    "        ts = datetime.datetime.utcnow().strftime(\"%s\")            \n",
    "        add_timestamp(data_dict[k][0],ts)            \n",
    "        start_index[k] = end_index_X\n",
    "        #Checks if start_index is greater than value, and sets the start_index to 0\n",
    "        if(start_index[k] >=len(value)):\n",
    "            start_index[k]=0\n",
    "        \n",
    "        print(k[:9], rows_to_send_X )#+ rows_to_send_Y)\n",
    "        \n",
    "    #Sending the data for all the machines in one list of sub-lists containing machine data\n",
    "    for key in data_dict.keys():\n",
    "        combined_data.append(data_dict[key][0])\n",
    "    \n",
    "    #Publishing the combined data list to the topic\n",
    "    publish_message(producer, topic,combined_data)\n",
    "    \n",
    "    #Reinitializing the combined data list\n",
    "    combined_data = []\n",
    "    \n",
    "    #Assigning sleep for 5 seconds between the published messages\n",
    "    sleep(5)            \n",
    "    print('end cycle')"
   ]
  }
 ],
 "metadata": {
  "kernelspec": {
   "display_name": "Python 3",
   "language": "python",
   "name": "python3"
  },
  "language_info": {
   "codemirror_mode": {
    "name": "ipython",
    "version": 3
   },
   "file_extension": ".py",
   "mimetype": "text/x-python",
   "name": "python",
   "nbconvert_exporter": "python",
   "pygments_lexer": "ipython3",
   "version": "3.8.2"
  }
 },
 "nbformat": 4,
 "nbformat_minor": 4
}
